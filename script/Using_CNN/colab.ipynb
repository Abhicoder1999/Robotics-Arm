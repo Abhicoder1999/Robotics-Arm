{
  "nbformat": 4,
  "nbformat_minor": 0,
  "metadata": {
    "colab": {
      "name": "fingers.ipynb",
      "provenance": [],
      "collapsed_sections": []
    },
    "kernelspec": {
      "name": "python3",
      "display_name": "Python 3"
    },
    "accelerator": "TPU"
  },
  "cells": [
    {
      "cell_type": "code",
      "metadata": {
        "id": "X3vX5GVp04EH",
        "colab_type": "code",
        "colab": {}
      },
      "source": [
        "from pydrive.auth import GoogleAuth\n",
        "from pydrive.drive import GoogleDrive \n",
        "from google.colab import auth \n",
        "from oauth2client.client import GoogleCredentials\n",
        "from google.colab import drive\n",
        "import glob\n",
        "\n",
        "import cv2\n",
        "import numpy as np\n",
        "import keras\n",
        "import keras\n",
        "from keras.models import Sequential,Input,Model\n",
        "from keras.layers import Dense, Dropout, Flatten\n",
        "from keras.layers import Conv2D, MaxPooling2D, Activation\n",
        "from keras.layers.normalization import BatchNormalization\n",
        "from keras.preprocessing.image import ImageDataGenerator\n",
        "from keras import regularizers\n",
        "import numpy as np\n",
        "from matplotlib import pyplot as plt\n",
        "\n"
      ],
      "execution_count": 0,
      "outputs": []
    },
    {
      "cell_type": "code",
      "metadata": {
        "id": "eF-CqMU8yypl",
        "colab_type": "code",
        "outputId": "64ddd776-9b2c-4253-b824-8bf97b995e61",
        "colab": {
          "base_uri": "https://localhost:8080/",
          "height": 34
        }
      },
      "source": [
        "\n",
        "\n",
        "\n",
        "drive.mount('/content/drive', force_remount = True)\n"
      ],
      "execution_count": 32,
      "outputs": [
        {
          "output_type": "stream",
          "text": [
            "Mounted at /content/drive\n"
          ],
          "name": "stdout"
        }
      ]
    },
    {
      "cell_type": "code",
      "metadata": {
        "id": "0aD3xCSXzmDj",
        "colab_type": "code",
        "colab": {}
      },
      "source": [
        "\n",
        "img_path = glob.glob(\"/content/drive/My Drive/modified/modified/*\")\n",
        "print(np.array(img_path).shape)\n",
        "y_train = []\n",
        "x_train = []\n",
        "y_test = []\n",
        "x_test = []\n",
        "count = 0\n",
        "for path in img_path:\n",
        "  image = cv2.imread(path)\n",
        "  x_train.append(image)\n",
        "  y_train.append(int(path[-6]))\n",
        "  count +=1\n",
        "  print(count)\n",
        "x_train = np.array(x_train)\n",
        "y_train = np.array(y_train)\n",
        "y_train = keras.utils.to_categorical(y_train, num_classes = 6)\n",
        "print(x_train.shape,y_train.shape)\n",
        "\n",
        "img_path = glob.glob(\"/content/drive/My Drive/test/test_modified/*\")\n",
        "print(np.array(img_path).shape)\n",
        "count = 0\n",
        "for path in img_path:\n",
        "  image = cv2.imread(path)\n",
        "  x_test.append(image)\n",
        "  y_test.append(int(path[-6]))\n",
        "  count +=1\n",
        "  print(count)\n",
        "x_test = np.array(x_test)\n",
        "y_test = np.array(y_test)\n",
        "y_test = keras.utils.to_categorical(y_test, num_classes = 6)\n",
        "print(x_test.shape,y_test.shape)"
      ],
      "execution_count": 0,
      "outputs": []
    },
    {
      "cell_type": "markdown",
      "metadata": {
        "id": "WPuf1M420vmP",
        "colab_type": "text"
      },
      "source": [
        ""
      ]
    },
    {
      "cell_type": "markdown",
      "metadata": {
        "id": "RZr4Pcceavod",
        "colab_type": "text"
      },
      "source": [
        ""
      ]
    },
    {
      "cell_type": "code",
      "metadata": {
        "id": "XAz6ByluTNS1",
        "colab_type": "code",
        "outputId": "e573747a-aec2-4c15-9e25-67a6233681e7",
        "colab": {
          "base_uri": "https://localhost:8080/",
          "height": 338
        }
      },
      "source": [
        "\n",
        "\n",
        "x_train_gr = np.zeros([len(x_train),128,128])\n",
        "x_test_gr = np.zeros([len(x_test),128,128])\n",
        "for k in range(len(x_train)):\n",
        "  temp = x_train[k]\n",
        "  temp = cv2.cvtColor(temp, cv2.COLOR_BGR2GRAY)\n",
        "  temp[temp == 14] = 0 #corresponding during image storing\n",
        "  temp[temp == 38] = 1\n",
        "  x_train_gr[k] = temp\n",
        "\n",
        "for k in range(len(x_test)):\n",
        "  temp = x_test[k]\n",
        "  temp = cv2.cvtColor(temp, cv2.COLOR_BGR2GRAY)\n",
        "  temp[temp == 14] = 0 #corresponding during image storing\n",
        "  temp[temp == 38] = 1\n",
        "  x_test_gr[k] = temp\n",
        "\n",
        "plt.imshow(x_train_gr[2])\n",
        "print(x_train_gr.shape)\n",
        "x_train_gr = np.expand_dims(x_train_gr, axis=3)\n",
        "print(np.array(x_train_gr).shape)\n",
        "\n",
        "plt.imshow(x_test_gr[2])\n",
        "print(x_test_gr.shape)\n",
        "x_test_gr = np.expand_dims(x_test_gr, axis=3)\n",
        "print(np.array(x_test_gr).shape)\n"
      ],
      "execution_count": 43,
      "outputs": [
        {
          "output_type": "stream",
          "text": [
            "(1171, 128, 128)\n",
            "(1171, 128, 128, 1)\n",
            "(208, 128, 128)\n",
            "(208, 128, 128, 1)\n"
          ],
          "name": "stdout"
        },
        {
          "output_type": "display_data",
          "data": {
            "image/png": "[encoded data removed]",
            "text/plain": [
              "<Figure size 432x288 with 1 Axes>"
            ]
          },
          "metadata": {
            "tags": []
          }
        }
      ]
    },
    {
      "cell_type": "code",
      "metadata": {
        "id": "Qzv1m78FLzZU",
        "colab_type": "code",
        "outputId": "26bcc721-24d2-4240-c261-4102e75ae0a1",
        "colab": {
          "base_uri": "https://localhost:8080/",
          "height": 1000
        }
      },
      "source": [
        "\n",
        "\n",
        "weight_decay = 1e-4\n",
        "\n",
        "num_classes = 6\n",
        "\n",
        "model = Sequential()\n",
        "\n",
        "model.add(Conv2D(64, (4,4), padding='same', kernel_regularizer=regularizers.l2(weight_decay), input_shape=(128,128,1)))\n",
        "model.add(Activation('relu'))\n",
        "model.add(BatchNormalization())\n",
        "model.add(Conv2D(64, (4,4), padding='same', kernel_regularizer=regularizers.l2(weight_decay)))\n",
        "model.add(Activation('relu'))\n",
        "model.add(BatchNormalization())\n",
        "model.add(MaxPooling2D(pool_size=(2,2)))\n",
        "model.add(Dropout(0.2))\n",
        " \n",
        "model.add(Conv2D(128, (4,4), padding='same', kernel_regularizer=regularizers.l2(weight_decay)))\n",
        "model.add(Activation('relu'))\n",
        "model.add(BatchNormalization())\n",
        "model.add(Conv2D(128, (4,4), padding='same', kernel_regularizer=regularizers.l2(weight_decay)))\n",
        "model.add(Activation('relu'))\n",
        "model.add(BatchNormalization())\n",
        "model.add(MaxPooling2D(pool_size=(2,2)))\n",
        "model.add(Dropout(0.3))\n",
        " \n",
        "model.add(Conv2D(128, (4,4), padding='same', kernel_regularizer=regularizers.l2(weight_decay)))\n",
        "model.add(Activation('relu'))\n",
        "model.add(BatchNormalization())\n",
        "model.add(Conv2D(128, (4,4), padding='same', kernel_regularizer=regularizers.l2(weight_decay)))\n",
        "model.add(Activation('relu'))\n",
        "model.add(BatchNormalization())\n",
        "model.add(MaxPooling2D(pool_size=(2,2)))\n",
        "model.add(Dropout(0.4))\n",
        " \n",
        "model.add(Flatten())\n",
        "model.add(Dense(128, activation=\"sigmoid\"))\n",
        "model.add(Activation('relu'))\n",
        "model.add(Dense(num_classes, activation='softmax'))\n",
        "\n",
        "model.compile(loss='categorical_crossentropy', optimizer=keras.optimizers.Adam(0.0003), metrics=['accuracy'])\n",
        "\n",
        "model.summary()"
      ],
      "execution_count": 35,
      "outputs": [
        {
          "output_type": "stream",
          "text": [
            "Model: \"sequential_5\"\n",
            "_________________________________________________________________\n",
            "Layer (type)                 Output Shape              Param #   \n",
            "=================================================================\n",
            "conv2d_25 (Conv2D)           (None, 128, 128, 64)      1088      \n",
            "_________________________________________________________________\n",
            "activation_29 (Activation)   (None, 128, 128, 64)      0         \n",
            "_________________________________________________________________\n",
            "batch_normalization_25 (Batc (None, 128, 128, 64)      256       \n",
            "_________________________________________________________________\n",
            "conv2d_26 (Conv2D)           (None, 128, 128, 64)      65600     \n",
            "_________________________________________________________________\n",
            "activation_30 (Activation)   (None, 128, 128, 64)      0         \n",
            "_________________________________________________________________\n",
            "batch_normalization_26 (Batc (None, 128, 128, 64)      256       \n",
            "_________________________________________________________________\n",
            "max_pooling2d_13 (MaxPooling (None, 64, 64, 64)        0         \n",
            "_________________________________________________________________\n",
            "dropout_13 (Dropout)         (None, 64, 64, 64)        0         \n",
            "_________________________________________________________________\n",
            "conv2d_27 (Conv2D)           (None, 64, 64, 128)       131200    \n",
            "_________________________________________________________________\n",
            "activation_31 (Activation)   (None, 64, 64, 128)       0         \n",
            "_________________________________________________________________\n",
            "batch_normalization_27 (Batc (None, 64, 64, 128)       512       \n",
            "_________________________________________________________________\n",
            "conv2d_28 (Conv2D)           (None, 64, 64, 128)       262272    \n",
            "_________________________________________________________________\n",
            "activation_32 (Activation)   (None, 64, 64, 128)       0         \n",
            "_________________________________________________________________\n",
            "batch_normalization_28 (Batc (None, 64, 64, 128)       512       \n",
            "_________________________________________________________________\n",
            "max_pooling2d_14 (MaxPooling (None, 32, 32, 128)       0         \n",
            "_________________________________________________________________\n",
            "dropout_14 (Dropout)         (None, 32, 32, 128)       0         \n",
            "_________________________________________________________________\n",
            "conv2d_29 (Conv2D)           (None, 32, 32, 128)       262272    \n",
            "_________________________________________________________________\n",
            "activation_33 (Activation)   (None, 32, 32, 128)       0         \n",
            "_________________________________________________________________\n",
            "batch_normalization_29 (Batc (None, 32, 32, 128)       512       \n",
            "_________________________________________________________________\n",
            "conv2d_30 (Conv2D)           (None, 32, 32, 128)       262272    \n",
            "_________________________________________________________________\n",
            "activation_34 (Activation)   (None, 32, 32, 128)       0         \n",
            "_________________________________________________________________\n",
            "batch_normalization_30 (Batc (None, 32, 32, 128)       512       \n",
            "_________________________________________________________________\n",
            "max_pooling2d_15 (MaxPooling (None, 16, 16, 128)       0         \n",
            "_________________________________________________________________\n",
            "dropout_15 (Dropout)         (None, 16, 16, 128)       0         \n",
            "_________________________________________________________________\n",
            "flatten_5 (Flatten)          (None, 32768)             0         \n",
            "_________________________________________________________________\n",
            "dense_9 (Dense)              (None, 128)               4194432   \n",
            "_________________________________________________________________\n",
            "activation_35 (Activation)   (None, 128)               0         \n",
            "_________________________________________________________________\n",
            "dense_10 (Dense)             (None, 6)                 774       \n",
            "=================================================================\n",
            "Total params: 5,182,470\n",
            "Trainable params: 5,181,190\n",
            "Non-trainable params: 1,280\n",
            "_________________________________________________________________\n"
          ],
          "name": "stdout"
        }
      ]
    },
    {
      "cell_type": "code",
      "metadata": {
        "id": "rRbbI2IaR3Uv",
        "colab_type": "code",
        "outputId": "3f73a1d1-17c2-4b8b-a4c6-95ff6fb70200",
        "colab": {
          "base_uri": "https://localhost:8080/",
          "height": 225
        }
      },
      "source": [
        "model.fit(x = x_train_gr,y = y_train, batch_size=64, validation_data = (x_test_gr,y_test), epochs = 5)"
      ],
      "execution_count": 44,
      "outputs": [
        {
          "output_type": "stream",
          "text": [
            "Train on 1171 samples, validate on 208 samples\n",
            "Epoch 1/5\n",
            "1171/1171 [==============================] - 765s 653ms/step - loss: 0.2516 - acc: 0.9624 - val_loss: 0.1371 - val_acc: 0.9952\n",
            "Epoch 2/5\n",
            "1171/1171 [==============================] - 763s 651ms/step - loss: 0.2136 - acc: 0.9684 - val_loss: 0.1190 - val_acc: 0.9952\n",
            "Epoch 3/5\n",
            "1171/1171 [==============================] - 764s 653ms/step - loss: 0.1969 - acc: 0.9761 - val_loss: 0.1104 - val_acc: 1.0000\n",
            "Epoch 4/5\n",
            "1171/1171 [==============================] - 759s 648ms/step - loss: 0.1867 - acc: 0.9761 - val_loss: 0.1022 - val_acc: 1.0000\n",
            "Epoch 5/5\n",
            "1171/1171 [==============================] - 756s 646ms/step - loss: 0.1810 - acc: 0.9769 - val_loss: 0.0997 - val_acc: 1.0000\n"
          ],
          "name": "stdout"
        },
        {
          "output_type": "execute_result",
          "data": {
            "text/plain": [
              "<keras.callbacks.History at 0x7f5c31a11c88>"
            ]
          },
          "metadata": {
            "tags": []
          },
          "execution_count": 44
        }
      ]
    },
    {
      "cell_type": "code",
      "metadata": {
        "id": "vNRYIkTjf8o7",
        "colab_type": "code",
        "colab": {}
      },
      "source": [
        "\n",
        "model.save_weights('casual_training2.h5')\n"
      ],
      "execution_count": 0,
      "outputs": []
    },
    {
      "cell_type": "code",
      "metadata": {
        "id": "0gVTRHqoKYEV",
        "colab_type": "code",
        "colab": {}
      },
      "source": [
        "!pip install -U -q PyDrive"
      ],
      "execution_count": 0,
      "outputs": []
    },
    {
      "cell_type": "code",
      "metadata": {
        "id": "J88WaLfPKcPT",
        "colab_type": "code",
        "colab": {}
      },
      "source": [
        "\n",
        "\n",
        "auth.authenticate_user()\n",
        "gauth = GoogleAuth()\n",
        "gauth.credentials = GoogleCredentials.get_application_default()\n",
        "drive = GoogleDrive(gauth)"
      ],
      "execution_count": 0,
      "outputs": []
    },
    {
      "cell_type": "code",
      "metadata": {
        "id": "y8p4AFGsLC3r",
        "colab_type": "code",
        "colab": {}
      },
      "source": [
        "model.save('model2.h5')\n",
        "model_file = drive.CreateFile({'colab_models':'model2.h5'})\n",
        "model_file.SetContentFile('model2.h5')\n",
        "model_file.Upload()"
      ],
      "execution_count": 0,
      "outputs": []
    },
    {
      "cell_type": "markdown",
      "metadata": {
        "id": "jv7GMuIKM64W",
        "colab_type": "text"
      },
      "source": [
        ""
      ]
    },
    {
      "cell_type": "code",
      "metadata": {
        "id": "TCU7AnXCL-q0",
        "colab_type": "code",
        "colab": {
          "base_uri": "https://localhost:8080/",
          "height": 34
        },
        "outputId": "391ed3f1-e158-4b86-a15b-d300d01e0489"
      },
      "source": [
        "drive.CreateFile({'id': model_file.get('id')})"
      ],
      "execution_count": 49,
      "outputs": [
        {
          "output_type": "execute_result",
          "data": {
            "text/plain": [
              "GoogleDriveFile({'id': '1DHaeaOpwFcUw3S71RWhGSLzFqRJSmlNf'})"
            ]
          },
          "metadata": {
            "tags": []
          },
          "execution_count": 49
        }
      ]
    },
    {
      "cell_type": "code",
      "metadata": {
        "id": "euM2WJkx0yIh",
        "colab_type": "code",
        "colab": {}
      },
      "source": [
        "file_obj = drive.CreateFile({'id': '1ZCJ4_AnKkdBGBeZRkpkTRZUjlqO5HMRP'})\n",
        "file_obj.GetContentFile('model1.h5')"
      ],
      "execution_count": 0,
      "outputs": []
    }
  ]
}